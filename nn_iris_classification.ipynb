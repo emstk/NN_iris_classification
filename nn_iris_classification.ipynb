{
 "cells": [
  {
   "cell_type": "code",
   "execution_count": 1,
   "metadata": {
    "collapsed": false
   },
   "outputs": [
    {
     "name": "stderr",
     "output_type": "stream",
     "text": [
      "/Users/admin/.pyenv/versions/anaconda2-4.3.1/lib/python2.7/site-packages/sklearn/cross_validation.py:44: DeprecationWarning: This module was deprecated in version 0.18 in favor of the model_selection module into which all the refactored classes and functions are moved. Also note that the interface of the new CV iterators are different from that of this module. This module will be removed in 0.20.\n",
      "  \"This module will be removed in 0.20.\", DeprecationWarning)\n"
     ]
    }
   ],
   "source": [
    "import numpy as np\n",
    "from sklearn.cross_validation import train_test_split\n",
    "from sklearn.datasets import load_iris\n",
    "import pandas as pd\n",
    "from sklearn.preprocessing import OneHotEncoder\n",
    "import matplotlib.pyplot as plt\n",
    "%matplotlib inline"
   ]
  },
  {
   "cell_type": "code",
   "execution_count": 2,
   "metadata": {
    "collapsed": true
   },
   "outputs": [],
   "source": [
    "def sigmoid(u):\n",
    "    return 1 / (1 + np.exp(-u))\n",
    "\n",
    "def softmax(u):\n",
    "    e = np.exp(u)\n",
    "    a=np.repeat(np.sum(e,axis=1).reshape(len(e),1),3,axis=1)\n",
    "    return e / a\n",
    "\n",
    "def forward(x):\n",
    "    global W1\n",
    "    global W2\n",
    "    u1 = x.dot(W1)\n",
    "    z1 = sigmoid(u1)\n",
    "    u2 = z1.dot(W2)\n",
    "    y = softmax(u2)\n",
    "    return y, z1\n",
    "\n",
    "def back_propagation(x, z1, y, d):\n",
    "    global W1\n",
    "    global W2\n",
    "    delta2 = y - d\n",
    "    grad_W2 = z1.T.dot(delta2)\n",
    "\n",
    "    sigmoid_dash = z1 * (1 - z1)\n",
    "    delta1 = delta2.dot(W2.T) * sigmoid_dash\n",
    "    grad_W1 = x.T.dot(delta1)\n",
    "\n",
    "    W2 -= learning_rate * grad_W2\n",
    "    W1 -= learning_rate * grad_W1"
   ]
  },
  {
   "cell_type": "code",
   "execution_count": 3,
   "metadata": {
    "collapsed": false
   },
   "outputs": [],
   "source": [
    "iris = load_iris()\n",
    "x=pd.DataFrame(iris.data, columns=iris.feature_names).values\n",
    "y=iris.target\n",
    "y=y.reshape(-1,1)\n",
    "ohe=OneHotEncoder()\n",
    "y=ohe.fit_transform(y).toarray()\n",
    "x_train,x_test,y_train,y_test=train_test_split(x,y,train_size=0.8)"
   ]
  },
  {
   "cell_type": "code",
   "execution_count": 4,
   "metadata": {
    "collapsed": true
   },
   "outputs": [],
   "source": [
    "W1 = np.random.rand(4,3)\n",
    "W2 = np.random.rand(3,3)\n",
    "learning_rate = 0.0005"
   ]
  },
  {
   "cell_type": "code",
   "execution_count": 5,
   "metadata": {
    "collapsed": false,
    "scrolled": true
   },
   "outputs": [
    {
     "data": {
      "text/plain": [
       "<matplotlib.legend.Legend at 0x1067fd2d0>"
      ]
     },
     "execution_count": 5,
     "metadata": {},
     "output_type": "execute_result"
    },
    {
     "data": {
      "image/png": "[encoded data removed]",
      "text/plain": [
       "<matplotlib.figure.Figure at 0x112060f10>"
      ]
     },
     "metadata": {},
     "output_type": "display_data"
    }
   ],
   "source": [
    "acc_train_list=[]\n",
    "acc_test_list=[]\n",
    "for k in range(3000):\n",
    "    # 順伝播\n",
    "    y, z1 = forward(x_train)\n",
    "\n",
    "    # 誤差逆伝播\n",
    "    back_propagation(x_train, z1, y, y_train)\n",
    "\n",
    "    \n",
    "    ans=np.argmax(y,axis=1)\n",
    "    true=np.argmax(y_train,axis=1)\n",
    "    acc_train=1.0*np.sum(ans==true)/len(ans)\n",
    "    acc_train_list.append(acc_train)\n",
    "    #print('train_acc_{0}'.format(acc_train))\n",
    "\n",
    "    y, z1 = forward(x_test)\n",
    "    ans=np.argmax(y,axis=1)\n",
    "    true=np.argmax(y_test,axis=1)\n",
    "    acc_test=1.0*np.sum(ans==true)/len(ans)\n",
    "    #print('test_acc_{0}'.format(acc_test))\n",
    "    acc_test_list.append(acc_test)\n",
    "\n",
    "plt.plot(acc_train_list,label='train')\n",
    "plt.plot(acc_test_list,label='test')\n",
    "plt.legend()"
   ]
  },
  {
   "cell_type": "code",
   "execution_count": null,
   "metadata": {
    "collapsed": true
   },
   "outputs": [],
   "source": []
  }
 ],
 "metadata": {
  "kernelspec": {
   "display_name": "Python 2",
   "language": "python",
   "name": "python2"
  },
  "language_info": {
   "codemirror_mode": {
    "name": "ipython",
    "version": 2
   },
   "file_extension": ".py",
   "mimetype": "text/x-python",
   "name": "python",
   "nbconvert_exporter": "python",
   "pygments_lexer": "ipython2",
   "version": "2.7.13"
  }
 },
 "nbformat": 4,
 "nbformat_minor": 2
}
